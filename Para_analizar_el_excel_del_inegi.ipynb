{
  "nbformat": 4,
  "nbformat_minor": 0,
  "metadata": {
    "colab": {
      "name": "Para analizar el excel del inegi",
      "provenance": [],
      "mount_file_id": "176UICJPXbe7TirzkAKWAeIXXbLMiKHTx",
      "authorship_tag": "ABX9TyMC7rgU/Pc6FX5WBDO5OJQW",
      "include_colab_link": true
    },
    "kernelspec": {
      "name": "python3",
      "display_name": "Python 3"
    },
    "language_info": {
      "name": "python"
    }
  },
  "cells": [
    {
      "cell_type": "markdown",
      "metadata": {
        "id": "view-in-github",
        "colab_type": "text"
      },
      "source": [
        "<a href=\"https://colab.research.google.com/github/GabrielCachoa/Languages/blob/main/Para_analizar_el_excel_del_inegi.ipynb\" target=\"_parent\"><img src=\"https://colab.research.google.com/assets/colab-badge.svg\" alt=\"Open In Colab\"/></a>"
      ]
    },
    {
      "cell_type": "code",
      "execution_count": null,
      "metadata": {
        "id": "c0aSoLws4hOZ"
      },
      "outputs": [],
      "source": [
        "import pandas as pd\n",
        "\n",
        "df = pd.read_csv (r'/content/drive/MyDrive/datos lenguas csv/1970.csv')\n",
        "print (df)\n",
        "estados = list(set(df.Estado))\n",
        "estados.sort()\n",
        "lenguas =['Chatino',\n",
        "'Chol',\n",
        "'Cora',\n",
        "'Cuicateco',\n",
        "'Huasteco',\n",
        "'Huave',\n",
        "'Huichol',\n",
        "'Maya',\n",
        "'Mayo',\n",
        "'Mazahua',\n",
        "'Mazateco',\n",
        "'Mixe',\n",
        "'Otomí',\n",
        "'Tarahumara',\n",
        "'Tzotzil',\n",
        "'Yaqui',\n",
        "'Zoque']\n",
        "\n",
        "COLUMNS = list(df.columns.values)\n",
        "empty = pd.DataFrame(columns=COLUMNS)\n",
        "\n",
        "for lengua in lenguas:\n",
        "  for estado in estados:\n",
        "    if set((df['Estado'] == estado) & (df['Lengua'] == lengua)) != {False}:\n",
        "      local = df.loc[(df['Estado'] == estado) & (df['Lengua'] == lengua)]\n",
        "      empty.loc[len(empty.index)] = local.values.tolist()[0]\n",
        "    else:\n",
        "      empty.loc[len(empty.index)] = [estado,lengua,0,0,0,0,0,0,0,0,0]\n",
        "    \n",
        "empty.to_csv('1970bien.csv')"
      ]
    },
    {
      "cell_type": "code",
      "source": [
        ""
      ],
      "metadata": {
        "id": "_Ce3x9RqJ0XS"
      },
      "execution_count": null,
      "outputs": []
    }
  ]
}